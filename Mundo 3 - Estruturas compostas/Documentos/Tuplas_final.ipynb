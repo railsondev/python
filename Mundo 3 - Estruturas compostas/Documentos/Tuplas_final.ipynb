{
 "cells": [
  {
   "cell_type": "markdown",
   "metadata": {},
   "source": [
    "# Tuplas no Python"
   ]
  },
  {
   "cell_type": "markdown",
   "metadata": {},
   "source": [
    "## Criando uma tupla"
   ]
  },
  {
   "cell_type": "code",
   "execution_count": null,
   "metadata": {},
   "outputs": [],
   "source": [
    "tupla = (1, 2, 3, 4, 5)"
   ]
  },
  {
   "cell_type": "markdown",
   "metadata": {},
   "source": [
    "## Dupla vs Listas"
   ]
  },
  {
   "cell_type": "code",
   "execution_count": null,
   "metadata": {},
   "outputs": [],
   "source": [
    "lista = [1, 2 ,3, 4, 5]\n",
    "tupla = (1, 2, 3, 4, 5)"
   ]
  },
  {
   "cell_type": "markdown",
   "metadata": {},
   "source": [
    "## Lista de Tuplas"
   ]
  },
  {
   "cell_type": "code",
   "execution_count": null,
   "metadata": {},
   "outputs": [],
   "source": [
    "cliente = ('Daniel','123.456.789-00','84.672.907-6')\n",
    "clientes = []\n",
    "clientes.append(cliente)\n",
    "print(clientes)\n",
    "\n",
    "# Acessando um item de um tupla "
   ]
  },
  {
   "cell_type": "markdown",
   "metadata": {},
   "source": [
    "## Tuplas como Chaves de Dicionários"
   ]
  },
  {
   "cell_type": "code",
   "execution_count": 10,
   "metadata": {},
   "outputs": [
    {
     "name": "stdout",
     "output_type": "stream",
     "text": [
      "dict_keys([('Brasil', 'Rio de Janeiro'), ('Brasil', 'Minas Gerais'), ('Brasil', 'São Paulo')])\n",
      "dict_values(['Rio de Janeiro', 'Belo Horizonte', 'São Paulo'])\n"
     ]
    }
   ],
   "source": [
    "capitais = {\n",
    "    ('Brasil','Rio de Janeiro'):'Rio de Janeiro',\n",
    "    ('Brasil','Minas Gerais'):'Belo Horizonte', \n",
    "    ('Brasil','São Paulo'):'São Paulo'\n",
    "    }\n",
    "\n",
    "print(coordenadas.keys())\n",
    "print(coordenadas.values())\n"
   ]
  },
  {
   "cell_type": "markdown",
   "metadata": {},
   "source": [
    "## Métodos de Tuplas"
   ]
  },
  {
   "cell_type": "code",
   "execution_count": null,
   "metadata": {},
   "outputs": [],
   "source": [
    "#Index\n",
    "#Count"
   ]
  },
  {
   "cell_type": "markdown",
   "metadata": {},
   "source": [
    "# Desafio: Criando um gerenciador de cadastro de materiais"
   ]
  },
  {
   "cell_type": "code",
   "execution_count": null,
   "metadata": {},
   "outputs": [],
   "source": [
    "#Passo 1: Criar uma lista de materiais\n",
    "#Passo 2: Criar um While + Input para \"cadastro do código\"\n",
    "#Passo 3: Criar uma Tupla que irá receber os materiais\n",
    "#Passo 4: Adicionar a tupla a lista de materiais\n",
    "#Passo 5: Criar uma função de cadastro de materiais\n",
    "#Passo 6: Criar uma função de Consulta de Materiais"
   ]
  },
  {
   "cell_type": "code",
   "execution_count": 30,
   "metadata": {},
   "outputs": [],
   "source": [
    "lista_materiais = []\n",
    "\n",
    "def cadastrarmateriais(nome, codigo, unidade, quantidade):\n",
    "    tupla=(nome, codigo, unidade, quantidade)\n",
    "    lista_materiais.append(tupla)\n",
    "    return lista_materiais\n",
    "\n",
    "def consultarmaterial(codigo):\n",
    "    for material in lista_materiais:\n",
    "        if material[1]==codigo:\n",
    "            return print(material)\n",
    "        else:\n",
    "            pass\n"
   ]
  },
  {
   "cell_type": "code",
   "execution_count": 31,
   "metadata": {},
   "outputs": [
    {
     "name": "stdout",
     "output_type": "stream",
     "text": [
      "('Lápis', 2, 'cx.', 20)\n"
     ]
    }
   ],
   "source": [
    "cadastrarmateriais('Borracha', 1, 'un.', 500)\n",
    "cadastrarmateriais('Lápis', 2 , 'cx.', 20)\n",
    "consultarmaterial(2)"
   ]
  },
  {
   "cell_type": "code",
   "execution_count": 32,
   "metadata": {},
   "outputs": [
    {
     "data": {
      "text/plain": [
       "('Borracha', 1, 'un.', 500)"
      ]
     },
     "execution_count": 32,
     "metadata": {},
     "output_type": "execute_result"
    }
   ],
   "source": [
    "lista_materiais[0]"
   ]
  }
 ],
 "metadata": {
  "kernelspec": {
   "display_name": "Python 3",
   "language": "python",
   "name": "python3"
  },
  "language_info": {
   "codemirror_mode": {
    "name": "ipython",
    "version": 3
   },
   "file_extension": ".py",
   "mimetype": "text/x-python",
   "name": "python",
   "nbconvert_exporter": "python",
   "pygments_lexer": "ipython3",
   "version": "3.8.3"
  }
 },
 "nbformat": 4,
 "nbformat_minor": 4
}
